{
 "cells": [
  {
   "cell_type": "code",
   "execution_count": 1,
   "metadata": {
    "collapsed": true
   },
   "outputs": [],
   "source": [
    "import pandas as pd\n",
    "from techan import CandleStickFrame\n",
    "from techan.pattern import CandleStickPattern"
   ]
  },
  {
   "cell_type": "code",
   "execution_count": 2,
   "outputs": [
    {
     "data": {
      "text/plain": "          <DATE>   <OPEN>   <HIGH>    <LOW>  <CLOSE>  <TICKVOL>         <VOL>  \\\n0     2006.01.02  1.18490  1.18690  1.18010  1.18210       5870  0.000000e+00   \n1     2006.01.03  1.18220  1.20330  1.18100  1.20150       9455  0.000000e+00   \n2     2006.01.04  1.20140  1.21460  1.20120  1.21080      10123  0.000000e+00   \n3     2006.01.05  1.21070  1.21230  1.20650  1.20970       9584  0.000000e+00   \n4     2006.01.06  1.21010  1.21820  1.20780  1.21430       9219  0.000000e+00   \n...          ...      ...      ...      ...      ...        ...           ...   \n4406  2022.12.23  1.05934  1.06323  1.05861  1.06150     762777  1.144170e+11   \n4407  2022.12.26  1.06196  1.06359  1.06140  1.06335     224659  3.369885e+10   \n4408  2022.12.27  1.06324  1.06689  1.06110  1.06385     757183  1.135770e+11   \n4409  2022.12.28  1.06385  1.06738  1.06058  1.06115     742676  1.114010e+11   \n4410  2022.12.29  1.06110  1.06367  1.06049  1.06306     119798  1.796970e+10   \n\n      <SPREAD>  \n0           20  \n1           20  \n2           20  \n3           20  \n4           20  \n...        ...  \n4406         5  \n4407         5  \n4408         5  \n4409         5  \n4410        13  \n\n[4411 rows x 8 columns]",
      "text/html": "<div>\n<style scoped>\n    .dataframe tbody tr th:only-of-type {\n        vertical-align: middle;\n    }\n\n    .dataframe tbody tr th {\n        vertical-align: top;\n    }\n\n    .dataframe thead th {\n        text-align: right;\n    }\n</style>\n<table border=\"1\" class=\"dataframe\">\n  <thead>\n    <tr style=\"text-align: right;\">\n      <th></th>\n      <th>&lt;DATE&gt;</th>\n      <th>&lt;OPEN&gt;</th>\n      <th>&lt;HIGH&gt;</th>\n      <th>&lt;LOW&gt;</th>\n      <th>&lt;CLOSE&gt;</th>\n      <th>&lt;TICKVOL&gt;</th>\n      <th>&lt;VOL&gt;</th>\n      <th>&lt;SPREAD&gt;</th>\n    </tr>\n  </thead>\n  <tbody>\n    <tr>\n      <th>0</th>\n      <td>2006.01.02</td>\n      <td>1.18490</td>\n      <td>1.18690</td>\n      <td>1.18010</td>\n      <td>1.18210</td>\n      <td>5870</td>\n      <td>0.000000e+00</td>\n      <td>20</td>\n    </tr>\n    <tr>\n      <th>1</th>\n      <td>2006.01.03</td>\n      <td>1.18220</td>\n      <td>1.20330</td>\n      <td>1.18100</td>\n      <td>1.20150</td>\n      <td>9455</td>\n      <td>0.000000e+00</td>\n      <td>20</td>\n    </tr>\n    <tr>\n      <th>2</th>\n      <td>2006.01.04</td>\n      <td>1.20140</td>\n      <td>1.21460</td>\n      <td>1.20120</td>\n      <td>1.21080</td>\n      <td>10123</td>\n      <td>0.000000e+00</td>\n      <td>20</td>\n    </tr>\n    <tr>\n      <th>3</th>\n      <td>2006.01.05</td>\n      <td>1.21070</td>\n      <td>1.21230</td>\n      <td>1.20650</td>\n      <td>1.20970</td>\n      <td>9584</td>\n      <td>0.000000e+00</td>\n      <td>20</td>\n    </tr>\n    <tr>\n      <th>4</th>\n      <td>2006.01.06</td>\n      <td>1.21010</td>\n      <td>1.21820</td>\n      <td>1.20780</td>\n      <td>1.21430</td>\n      <td>9219</td>\n      <td>0.000000e+00</td>\n      <td>20</td>\n    </tr>\n    <tr>\n      <th>...</th>\n      <td>...</td>\n      <td>...</td>\n      <td>...</td>\n      <td>...</td>\n      <td>...</td>\n      <td>...</td>\n      <td>...</td>\n      <td>...</td>\n    </tr>\n    <tr>\n      <th>4406</th>\n      <td>2022.12.23</td>\n      <td>1.05934</td>\n      <td>1.06323</td>\n      <td>1.05861</td>\n      <td>1.06150</td>\n      <td>762777</td>\n      <td>1.144170e+11</td>\n      <td>5</td>\n    </tr>\n    <tr>\n      <th>4407</th>\n      <td>2022.12.26</td>\n      <td>1.06196</td>\n      <td>1.06359</td>\n      <td>1.06140</td>\n      <td>1.06335</td>\n      <td>224659</td>\n      <td>3.369885e+10</td>\n      <td>5</td>\n    </tr>\n    <tr>\n      <th>4408</th>\n      <td>2022.12.27</td>\n      <td>1.06324</td>\n      <td>1.06689</td>\n      <td>1.06110</td>\n      <td>1.06385</td>\n      <td>757183</td>\n      <td>1.135770e+11</td>\n      <td>5</td>\n    </tr>\n    <tr>\n      <th>4409</th>\n      <td>2022.12.28</td>\n      <td>1.06385</td>\n      <td>1.06738</td>\n      <td>1.06058</td>\n      <td>1.06115</td>\n      <td>742676</td>\n      <td>1.114010e+11</td>\n      <td>5</td>\n    </tr>\n    <tr>\n      <th>4410</th>\n      <td>2022.12.29</td>\n      <td>1.06110</td>\n      <td>1.06367</td>\n      <td>1.06049</td>\n      <td>1.06306</td>\n      <td>119798</td>\n      <td>1.796970e+10</td>\n      <td>13</td>\n    </tr>\n  </tbody>\n</table>\n<p>4411 rows × 8 columns</p>\n</div>"
     },
     "execution_count": 2,
     "metadata": {},
     "output_type": "execute_result"
    }
   ],
   "source": [
    "# load data\n",
    "df = pd.read_csv('EURUSD_Daily.csv')\n",
    "df"
   ],
   "metadata": {
    "collapsed": false
   }
  },
  {
   "cell_type": "code",
   "execution_count": 3,
   "outputs": [
    {
     "name": "stdout",
     "output_type": "stream",
     "text": [
      "len csf: 4411\n",
      "type csf: <class 'techan.core.candle_stick_frame.CandleStickFrame'>\n"
     ]
    }
   ],
   "source": [
    "# create candlestick frame\n",
    "candle_stick_frame = CandleStickFrame(df['<DATE>'], df['<OPEN>'], df['<HIGH>'], df['<LOW>'], df['<CLOSE>'], df['<VOL>'])\n",
    "print('len csf:', len(candle_stick_frame))\n",
    "print('type csf:', type(candle_stick_frame))"
   ],
   "metadata": {
    "collapsed": false
   }
  },
  {
   "cell_type": "code",
   "execution_count": 4,
   "outputs": [
    {
     "name": "stdout",
     "output_type": "stream",
     "text": [
      "117\n"
     ]
    }
   ],
   "source": [
    "a = CandleStickPattern(candle_stick_frame)\n",
    "\n",
    "param = dict(trend_window = 10,\n",
    "             relative_size_window = 11,\n",
    "             trend_strength = 0.00,\n",
    "             cs_m1_body_ratio = 0.50,\n",
    "             cs_body_ratio = 0.50,\n",
    "             cs_m1_relative_size = 0.30,\n",
    "             cs_body_position = 0.25,\n",
    "             )\n",
    "\n",
    "b = a.is_tweezer_bottom(param = param, is_boolean = False)\n",
    "\n",
    "counter = 0\n",
    "for c in b:\n",
    "    if c.is_pattern:\n",
    "        counter += 1\n",
    "print(counter)"
   ],
   "metadata": {
    "collapsed": false
   }
  },
  {
   "cell_type": "code",
   "execution_count": 5,
   "outputs": [
    {
     "data": {
      "text/plain": "          <DATE>   <OPEN>   <HIGH>    <LOW>  <CLOSE>  <TICKVOL>         <VOL>  \\\n0     2006.01.02  1.18490  1.18690  1.18010  1.18210       5870  0.000000e+00   \n1     2006.01.03  1.18220  1.20330  1.18100  1.20150       9455  0.000000e+00   \n2     2006.01.04  1.20140  1.21460  1.20120  1.21080      10123  0.000000e+00   \n3     2006.01.05  1.21070  1.21230  1.20650  1.20970       9584  0.000000e+00   \n4     2006.01.06  1.21010  1.21820  1.20780  1.21430       9219  0.000000e+00   \n...          ...      ...      ...      ...      ...        ...           ...   \n4406  2022.12.23  1.05934  1.06323  1.05861  1.06150     762777  1.144170e+11   \n4407  2022.12.26  1.06196  1.06359  1.06140  1.06335     224659  3.369885e+10   \n4408  2022.12.27  1.06324  1.06689  1.06110  1.06385     757183  1.135770e+11   \n4409  2022.12.28  1.06385  1.06738  1.06058  1.06115     742676  1.114010e+11   \n4410  2022.12.29  1.06110  1.06367  1.06049  1.06306     119798  1.796970e+10   \n\n      <SPREAD>         is_bullish_marubozu         is_bearish_marubozu  ...  \\\n0           20   BullishMarubozu -> (None)   BearishMarubozu -> (None)  ...   \n1           20   BullishMarubozu -> (None)   BearishMarubozu -> (None)  ...   \n2           20   BullishMarubozu -> (None)   BearishMarubozu -> (None)  ...   \n3           20   BullishMarubozu -> (None)   BearishMarubozu -> (None)  ...   \n4           20   BullishMarubozu -> (None)   BearishMarubozu -> (None)  ...   \n...        ...                         ...                         ...  ...   \n4406         5  BullishMarubozu -> (False)  BearishMarubozu -> (False)  ...   \n4407         5  BullishMarubozu -> (False)  BearishMarubozu -> (False)  ...   \n4408         5  BullishMarubozu -> (False)  BearishMarubozu -> (False)  ...   \n4409         5  BullishMarubozu -> (False)  BearishMarubozu -> (False)  ...   \n4410        13  BullishMarubozu -> (False)  BearishMarubozu -> (False)  ...   \n\n              is_piercing         is_dark_cloud  \\\n0      Piercing -> (None)   DarkCloud -> (None)   \n1      Piercing -> (None)   DarkCloud -> (None)   \n2      Piercing -> (None)   DarkCloud -> (None)   \n3      Piercing -> (None)   DarkCloud -> (None)   \n4      Piercing -> (None)   DarkCloud -> (None)   \n...                   ...                   ...   \n4406  Piercing -> (False)  DarkCloud -> (False)   \n4407  Piercing -> (False)  DarkCloud -> (False)   \n4408  Piercing -> (False)  DarkCloud -> (False)   \n4409  Piercing -> (False)  DarkCloud -> (False)   \n4410  Piercing -> (False)  DarkCloud -> (False)   \n\n            is_three_white_soldiers        is_three_black_crows  \\\n0      ThreeWhiteSoldiers -> (None)   ThreeBlackCrows -> (None)   \n1      ThreeWhiteSoldiers -> (None)   ThreeBlackCrows -> (None)   \n2      ThreeWhiteSoldiers -> (None)   ThreeBlackCrows -> (None)   \n3      ThreeWhiteSoldiers -> (None)   ThreeBlackCrows -> (None)   \n4      ThreeWhiteSoldiers -> (None)   ThreeBlackCrows -> (None)   \n...                             ...                         ...   \n4406  ThreeWhiteSoldiers -> (False)  ThreeBlackCrows -> (False)   \n4407  ThreeWhiteSoldiers -> (False)  ThreeBlackCrows -> (False)   \n4408  ThreeWhiteSoldiers -> (False)  ThreeBlackCrows -> (False)   \n4409  ThreeWhiteSoldiers -> (False)  ThreeBlackCrows -> (False)   \n4410  ThreeWhiteSoldiers -> (False)  ThreeBlackCrows -> (False)   \n\n            is_three_inside_up        is_three_inside_down  \\\n0      ThreeInsideUp -> (None)   ThreeInsideDown -> (None)   \n1      ThreeInsideUp -> (None)   ThreeInsideDown -> (None)   \n2      ThreeInsideUp -> (None)   ThreeInsideDown -> (None)   \n3      ThreeInsideUp -> (None)   ThreeInsideDown -> (None)   \n4      ThreeInsideUp -> (None)   ThreeInsideDown -> (None)   \n...                        ...                         ...   \n4406  ThreeInsideUp -> (False)  ThreeInsideDown -> (False)   \n4407  ThreeInsideUp -> (False)  ThreeInsideDown -> (False)   \n4408  ThreeInsideUp -> (False)  ThreeInsideDown -> (False)   \n4409  ThreeInsideUp -> (False)  ThreeInsideDown -> (False)   \n4410  ThreeInsideUp -> (False)  ThreeInsideDown -> (False)   \n\n             is_bullish_harami         is_bearish_harami  \\\n0      BullishHarami -> (None)   BearishHarami -> (None)   \n1      BullishHarami -> (None)   BearishHarami -> (None)   \n2      BullishHarami -> (None)   BearishHarami -> (None)   \n3      BullishHarami -> (None)   BearishHarami -> (None)   \n4      BullishHarami -> (None)   BearishHarami -> (None)   \n...                        ...                       ...   \n4406  BullishHarami -> (False)  BearishHarami -> (False)   \n4407  BullishHarami -> (False)  BearishHarami -> (False)   \n4408  BullishHarami -> (False)  BearishHarami -> (False)   \n4409  BullishHarami -> (False)  BearishHarami -> (False)   \n4410  BullishHarami -> (False)  BearishHarami -> (False)   \n\n             is_tweezer_bottom         is_tweezer_top  \n0      TweezerBottom -> (None)   TweezerTop -> (None)  \n1      TweezerBottom -> (None)   TweezerTop -> (None)  \n2      TweezerBottom -> (None)   TweezerTop -> (None)  \n3      TweezerBottom -> (None)   TweezerTop -> (None)  \n4      TweezerBottom -> (None)   TweezerTop -> (None)  \n...                        ...                    ...  \n4406  TweezerBottom -> (False)  TweezerTop -> (False)  \n4407  TweezerBottom -> (False)  TweezerTop -> (False)  \n4408  TweezerBottom -> (False)  TweezerTop -> (False)  \n4409  TweezerBottom -> (False)  TweezerTop -> (False)  \n4410  TweezerBottom -> (False)  TweezerTop -> (False)  \n\n[4411 rows x 26 columns]",
      "text/html": "<div>\n<style scoped>\n    .dataframe tbody tr th:only-of-type {\n        vertical-align: middle;\n    }\n\n    .dataframe tbody tr th {\n        vertical-align: top;\n    }\n\n    .dataframe thead th {\n        text-align: right;\n    }\n</style>\n<table border=\"1\" class=\"dataframe\">\n  <thead>\n    <tr style=\"text-align: right;\">\n      <th></th>\n      <th>&lt;DATE&gt;</th>\n      <th>&lt;OPEN&gt;</th>\n      <th>&lt;HIGH&gt;</th>\n      <th>&lt;LOW&gt;</th>\n      <th>&lt;CLOSE&gt;</th>\n      <th>&lt;TICKVOL&gt;</th>\n      <th>&lt;VOL&gt;</th>\n      <th>&lt;SPREAD&gt;</th>\n      <th>is_bullish_marubozu</th>\n      <th>is_bearish_marubozu</th>\n      <th>...</th>\n      <th>is_piercing</th>\n      <th>is_dark_cloud</th>\n      <th>is_three_white_soldiers</th>\n      <th>is_three_black_crows</th>\n      <th>is_three_inside_up</th>\n      <th>is_three_inside_down</th>\n      <th>is_bullish_harami</th>\n      <th>is_bearish_harami</th>\n      <th>is_tweezer_bottom</th>\n      <th>is_tweezer_top</th>\n    </tr>\n  </thead>\n  <tbody>\n    <tr>\n      <th>0</th>\n      <td>2006.01.02</td>\n      <td>1.18490</td>\n      <td>1.18690</td>\n      <td>1.18010</td>\n      <td>1.18210</td>\n      <td>5870</td>\n      <td>0.000000e+00</td>\n      <td>20</td>\n      <td>BullishMarubozu -&gt; (None)</td>\n      <td>BearishMarubozu -&gt; (None)</td>\n      <td>...</td>\n      <td>Piercing -&gt; (None)</td>\n      <td>DarkCloud -&gt; (None)</td>\n      <td>ThreeWhiteSoldiers -&gt; (None)</td>\n      <td>ThreeBlackCrows -&gt; (None)</td>\n      <td>ThreeInsideUp -&gt; (None)</td>\n      <td>ThreeInsideDown -&gt; (None)</td>\n      <td>BullishHarami -&gt; (None)</td>\n      <td>BearishHarami -&gt; (None)</td>\n      <td>TweezerBottom -&gt; (None)</td>\n      <td>TweezerTop -&gt; (None)</td>\n    </tr>\n    <tr>\n      <th>1</th>\n      <td>2006.01.03</td>\n      <td>1.18220</td>\n      <td>1.20330</td>\n      <td>1.18100</td>\n      <td>1.20150</td>\n      <td>9455</td>\n      <td>0.000000e+00</td>\n      <td>20</td>\n      <td>BullishMarubozu -&gt; (None)</td>\n      <td>BearishMarubozu -&gt; (None)</td>\n      <td>...</td>\n      <td>Piercing -&gt; (None)</td>\n      <td>DarkCloud -&gt; (None)</td>\n      <td>ThreeWhiteSoldiers -&gt; (None)</td>\n      <td>ThreeBlackCrows -&gt; (None)</td>\n      <td>ThreeInsideUp -&gt; (None)</td>\n      <td>ThreeInsideDown -&gt; (None)</td>\n      <td>BullishHarami -&gt; (None)</td>\n      <td>BearishHarami -&gt; (None)</td>\n      <td>TweezerBottom -&gt; (None)</td>\n      <td>TweezerTop -&gt; (None)</td>\n    </tr>\n    <tr>\n      <th>2</th>\n      <td>2006.01.04</td>\n      <td>1.20140</td>\n      <td>1.21460</td>\n      <td>1.20120</td>\n      <td>1.21080</td>\n      <td>10123</td>\n      <td>0.000000e+00</td>\n      <td>20</td>\n      <td>BullishMarubozu -&gt; (None)</td>\n      <td>BearishMarubozu -&gt; (None)</td>\n      <td>...</td>\n      <td>Piercing -&gt; (None)</td>\n      <td>DarkCloud -&gt; (None)</td>\n      <td>ThreeWhiteSoldiers -&gt; (None)</td>\n      <td>ThreeBlackCrows -&gt; (None)</td>\n      <td>ThreeInsideUp -&gt; (None)</td>\n      <td>ThreeInsideDown -&gt; (None)</td>\n      <td>BullishHarami -&gt; (None)</td>\n      <td>BearishHarami -&gt; (None)</td>\n      <td>TweezerBottom -&gt; (None)</td>\n      <td>TweezerTop -&gt; (None)</td>\n    </tr>\n    <tr>\n      <th>3</th>\n      <td>2006.01.05</td>\n      <td>1.21070</td>\n      <td>1.21230</td>\n      <td>1.20650</td>\n      <td>1.20970</td>\n      <td>9584</td>\n      <td>0.000000e+00</td>\n      <td>20</td>\n      <td>BullishMarubozu -&gt; (None)</td>\n      <td>BearishMarubozu -&gt; (None)</td>\n      <td>...</td>\n      <td>Piercing -&gt; (None)</td>\n      <td>DarkCloud -&gt; (None)</td>\n      <td>ThreeWhiteSoldiers -&gt; (None)</td>\n      <td>ThreeBlackCrows -&gt; (None)</td>\n      <td>ThreeInsideUp -&gt; (None)</td>\n      <td>ThreeInsideDown -&gt; (None)</td>\n      <td>BullishHarami -&gt; (None)</td>\n      <td>BearishHarami -&gt; (None)</td>\n      <td>TweezerBottom -&gt; (None)</td>\n      <td>TweezerTop -&gt; (None)</td>\n    </tr>\n    <tr>\n      <th>4</th>\n      <td>2006.01.06</td>\n      <td>1.21010</td>\n      <td>1.21820</td>\n      <td>1.20780</td>\n      <td>1.21430</td>\n      <td>9219</td>\n      <td>0.000000e+00</td>\n      <td>20</td>\n      <td>BullishMarubozu -&gt; (None)</td>\n      <td>BearishMarubozu -&gt; (None)</td>\n      <td>...</td>\n      <td>Piercing -&gt; (None)</td>\n      <td>DarkCloud -&gt; (None)</td>\n      <td>ThreeWhiteSoldiers -&gt; (None)</td>\n      <td>ThreeBlackCrows -&gt; (None)</td>\n      <td>ThreeInsideUp -&gt; (None)</td>\n      <td>ThreeInsideDown -&gt; (None)</td>\n      <td>BullishHarami -&gt; (None)</td>\n      <td>BearishHarami -&gt; (None)</td>\n      <td>TweezerBottom -&gt; (None)</td>\n      <td>TweezerTop -&gt; (None)</td>\n    </tr>\n    <tr>\n      <th>...</th>\n      <td>...</td>\n      <td>...</td>\n      <td>...</td>\n      <td>...</td>\n      <td>...</td>\n      <td>...</td>\n      <td>...</td>\n      <td>...</td>\n      <td>...</td>\n      <td>...</td>\n      <td>...</td>\n      <td>...</td>\n      <td>...</td>\n      <td>...</td>\n      <td>...</td>\n      <td>...</td>\n      <td>...</td>\n      <td>...</td>\n      <td>...</td>\n      <td>...</td>\n      <td>...</td>\n    </tr>\n    <tr>\n      <th>4406</th>\n      <td>2022.12.23</td>\n      <td>1.05934</td>\n      <td>1.06323</td>\n      <td>1.05861</td>\n      <td>1.06150</td>\n      <td>762777</td>\n      <td>1.144170e+11</td>\n      <td>5</td>\n      <td>BullishMarubozu -&gt; (False)</td>\n      <td>BearishMarubozu -&gt; (False)</td>\n      <td>...</td>\n      <td>Piercing -&gt; (False)</td>\n      <td>DarkCloud -&gt; (False)</td>\n      <td>ThreeWhiteSoldiers -&gt; (False)</td>\n      <td>ThreeBlackCrows -&gt; (False)</td>\n      <td>ThreeInsideUp -&gt; (False)</td>\n      <td>ThreeInsideDown -&gt; (False)</td>\n      <td>BullishHarami -&gt; (False)</td>\n      <td>BearishHarami -&gt; (False)</td>\n      <td>TweezerBottom -&gt; (False)</td>\n      <td>TweezerTop -&gt; (False)</td>\n    </tr>\n    <tr>\n      <th>4407</th>\n      <td>2022.12.26</td>\n      <td>1.06196</td>\n      <td>1.06359</td>\n      <td>1.06140</td>\n      <td>1.06335</td>\n      <td>224659</td>\n      <td>3.369885e+10</td>\n      <td>5</td>\n      <td>BullishMarubozu -&gt; (False)</td>\n      <td>BearishMarubozu -&gt; (False)</td>\n      <td>...</td>\n      <td>Piercing -&gt; (False)</td>\n      <td>DarkCloud -&gt; (False)</td>\n      <td>ThreeWhiteSoldiers -&gt; (False)</td>\n      <td>ThreeBlackCrows -&gt; (False)</td>\n      <td>ThreeInsideUp -&gt; (False)</td>\n      <td>ThreeInsideDown -&gt; (False)</td>\n      <td>BullishHarami -&gt; (False)</td>\n      <td>BearishHarami -&gt; (False)</td>\n      <td>TweezerBottom -&gt; (False)</td>\n      <td>TweezerTop -&gt; (False)</td>\n    </tr>\n    <tr>\n      <th>4408</th>\n      <td>2022.12.27</td>\n      <td>1.06324</td>\n      <td>1.06689</td>\n      <td>1.06110</td>\n      <td>1.06385</td>\n      <td>757183</td>\n      <td>1.135770e+11</td>\n      <td>5</td>\n      <td>BullishMarubozu -&gt; (False)</td>\n      <td>BearishMarubozu -&gt; (False)</td>\n      <td>...</td>\n      <td>Piercing -&gt; (False)</td>\n      <td>DarkCloud -&gt; (False)</td>\n      <td>ThreeWhiteSoldiers -&gt; (False)</td>\n      <td>ThreeBlackCrows -&gt; (False)</td>\n      <td>ThreeInsideUp -&gt; (False)</td>\n      <td>ThreeInsideDown -&gt; (False)</td>\n      <td>BullishHarami -&gt; (False)</td>\n      <td>BearishHarami -&gt; (False)</td>\n      <td>TweezerBottom -&gt; (False)</td>\n      <td>TweezerTop -&gt; (False)</td>\n    </tr>\n    <tr>\n      <th>4409</th>\n      <td>2022.12.28</td>\n      <td>1.06385</td>\n      <td>1.06738</td>\n      <td>1.06058</td>\n      <td>1.06115</td>\n      <td>742676</td>\n      <td>1.114010e+11</td>\n      <td>5</td>\n      <td>BullishMarubozu -&gt; (False)</td>\n      <td>BearishMarubozu -&gt; (False)</td>\n      <td>...</td>\n      <td>Piercing -&gt; (False)</td>\n      <td>DarkCloud -&gt; (False)</td>\n      <td>ThreeWhiteSoldiers -&gt; (False)</td>\n      <td>ThreeBlackCrows -&gt; (False)</td>\n      <td>ThreeInsideUp -&gt; (False)</td>\n      <td>ThreeInsideDown -&gt; (False)</td>\n      <td>BullishHarami -&gt; (False)</td>\n      <td>BearishHarami -&gt; (False)</td>\n      <td>TweezerBottom -&gt; (False)</td>\n      <td>TweezerTop -&gt; (False)</td>\n    </tr>\n    <tr>\n      <th>4410</th>\n      <td>2022.12.29</td>\n      <td>1.06110</td>\n      <td>1.06367</td>\n      <td>1.06049</td>\n      <td>1.06306</td>\n      <td>119798</td>\n      <td>1.796970e+10</td>\n      <td>13</td>\n      <td>BullishMarubozu -&gt; (False)</td>\n      <td>BearishMarubozu -&gt; (False)</td>\n      <td>...</td>\n      <td>Piercing -&gt; (False)</td>\n      <td>DarkCloud -&gt; (False)</td>\n      <td>ThreeWhiteSoldiers -&gt; (False)</td>\n      <td>ThreeBlackCrows -&gt; (False)</td>\n      <td>ThreeInsideUp -&gt; (False)</td>\n      <td>ThreeInsideDown -&gt; (False)</td>\n      <td>BullishHarami -&gt; (False)</td>\n      <td>BearishHarami -&gt; (False)</td>\n      <td>TweezerBottom -&gt; (False)</td>\n      <td>TweezerTop -&gt; (False)</td>\n    </tr>\n  </tbody>\n</table>\n<p>4411 rows × 26 columns</p>\n</div>"
     },
     "execution_count": 5,
     "metadata": {},
     "output_type": "execute_result"
    }
   ],
   "source": [
    "candle_pattern = CandleStickPattern(candle_stick_frame)\n",
    "df['is_bullish_marubozu'] = candle_pattern.is_bullish_marubozu()\n",
    "df['is_bearish_marubozu'] = candle_pattern.is_bearish_marubozu()\n",
    "df['is_morning_star'] = candle_pattern.is_morning_star()\n",
    "df['is_evening_star'] = candle_pattern.is_evening_star()\n",
    "df['is_bullish_engulfing'] = candle_pattern.is_bullish_engulfing()\n",
    "df['is_bearish_engulfing'] = candle_pattern.is_bearish_engulfing()\n",
    "df['is_hammer'] = candle_pattern.is_hammer()\n",
    "df['is_hanging_man'] = candle_pattern.is_hanging_man()\n",
    "df['is_piercing'] = candle_pattern.is_piercing()\n",
    "df['is_dark_cloud'] = candle_pattern.is_dark_cloud()\n",
    "df['is_three_white_soldiers'] = candle_pattern.is_three_white_soldiers()\n",
    "df['is_three_black_crows'] = candle_pattern.is_three_black_crows()\n",
    "df['is_three_inside_up'] = candle_pattern.is_three_inside_up()\n",
    "df['is_three_inside_down'] = candle_pattern.is_three_inside_down()\n",
    "df['is_bullish_harami'] = candle_pattern.is_bullish_harami()\n",
    "df['is_bearish_harami'] = candle_pattern.is_bearish_harami()\n",
    "df['is_tweezer_bottom'] = candle_pattern.is_tweezer_bottom()\n",
    "df['is_tweezer_top'] = candle_pattern.is_tweezer_top()\n",
    "df"
   ],
   "metadata": {
    "collapsed": false
   }
  }
 ],
 "metadata": {
  "kernelspec": {
   "display_name": "Python 3",
   "language": "python",
   "name": "python3"
  },
  "language_info": {
   "codemirror_mode": {
    "name": "ipython",
    "version": 2
   },
   "file_extension": ".py",
   "mimetype": "text/x-python",
   "name": "python",
   "nbconvert_exporter": "python",
   "pygments_lexer": "ipython2",
   "version": "2.7.6"
  }
 },
 "nbformat": 4,
 "nbformat_minor": 0
}
