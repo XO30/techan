{
 "cells": [
  {
   "cell_type": "code",
   "execution_count": 19,
   "metadata": {
    "collapsed": true,
    "pycharm": {
     "name": "#%%\n"
    }
   },
   "outputs": [],
   "source": [
    "import matplotlib.pyplot as plt\n",
    "import matplotlib.patches as patches\n",
    "import numpy as np\n",
    "import pandas as pd\n",
    "\n",
    "class Candle:\n",
    "    def __init__(self, open, high, low, close):\n",
    "        self.open = open\n",
    "        self.high = high\n",
    "        self.low = low\n",
    "        self.close = close\n",
    "        self._validate_candle()\n",
    "\n",
    "    def __repr__(self):\n",
    "        return f\"Candle({self.open}, {self.high}, {self.low}, {self.close})\"\n",
    "\n",
    "    def __str__(self):\n",
    "        return f\"O: {self.open}, H: {self.high}, L: {self.low}, C: {self.close}\"\n",
    "\n",
    "    @property\n",
    "    def open(self):\n",
    "        return self._open\n",
    "\n",
    "    @property\n",
    "    def high(self):\n",
    "        return self._high\n",
    "\n",
    "    @property\n",
    "    def low(self):\n",
    "        return self._low\n",
    "\n",
    "    @property\n",
    "    def close(self):\n",
    "        return self._close\n",
    "\n",
    "    @open.setter\n",
    "    def open(self, value):\n",
    "        if not isinstance(value, (int, float)):\n",
    "            raise TypeError(\"open must be int or float not {}\".format(type(value)))\n",
    "        if value < 0:\n",
    "            raise ValueError(\"open must be positive\")\n",
    "        self._open = value\n",
    "\n",
    "    @high.setter\n",
    "    def high(self, value):\n",
    "        if not isinstance(value, (int, float)):\n",
    "            raise TypeError(\"high must be int or float not {}\".format(type(value)))\n",
    "        if value < 0:\n",
    "            raise ValueError(\"high must be positive\")\n",
    "        self._high = value\n",
    "\n",
    "    @low.setter\n",
    "    def low(self, value):\n",
    "        if not isinstance(value, (int, float)):\n",
    "            raise TypeError(\"low must be int or float not {}\".format(type(value)))\n",
    "        if value < 0:\n",
    "            raise ValueError(\"Low must be positive\")\n",
    "        self._low = value\n",
    "\n",
    "    @close.setter\n",
    "    def close(self, value):\n",
    "        if not isinstance(value, (int, float)):\n",
    "            raise TypeError(\"close must be int or float not {}\".format(type(value)))\n",
    "        if value < 0:\n",
    "            raise ValueError(\"close must be positive\")\n",
    "        self._close = value\n",
    "\n",
    "    def _validate_candle(self):\n",
    "        if self.open > self.high:\n",
    "            raise ValueError(\"open cannot be greater than high\")\n",
    "        if self.open < self.low:\n",
    "            raise ValueError(\"open cannot be less than low\")\n",
    "        if self.close > self.high:\n",
    "            raise ValueError(\"close cannot be greater than high\")\n",
    "        if self.close < self.low:\n",
    "            raise ValueError(\"close cannot be less than low\")\n",
    "\n",
    "\n",
    "class CandleFrame:\n",
    "    def __init__(self, open, high, low, close):\n",
    "        open, high, low, close = self._validate_input(open, high, low, close)\n",
    "        self.candles = [Candle(o, h, l, c) for o, h, l, c in zip(open, high, low, close)]\n",
    "        self.df = pd.DataFrame({\"open\": open, \"high\": high, \"low\": low, \"close\": close})\n",
    "\n",
    "    def __repr__(self):\n",
    "        return f\"CandleFrame({self.df})\"\n",
    "\n",
    "    def __str__(self):\n",
    "        return f\"{self.df}\"\n",
    "\n",
    "    def __len__(self):\n",
    "        return len(self.candles)\n",
    "\n",
    "    def __getitem__(self, index):\n",
    "        return self.candles[index]\n",
    "\n",
    "    def __iter__(self):\n",
    "        return iter(self.candles)\n",
    "\n",
    "    def __reversed__(self):\n",
    "        return reversed(self.candles)\n",
    "\n",
    "    @staticmethod\n",
    "    def _validate_input(open, high, low, close):\n",
    "        if not isinstance(open, list) and not isinstance(open, np.ndarray) and not isinstance(open, pd.DataFrame):\n",
    "            raise TypeError(\"open must be list, np.ndarry, or pd.DataFrame not {}\".format(type(open)))\n",
    "        if not isinstance(high, list) and not isinstance(high, np.ndarray) and not isinstance(high, pd.DataFrame):\n",
    "            raise TypeError(\"high must be list, np.ndarry, or pd.DataFrame not {}\".format(type(high)))\n",
    "        if not isinstance(low, list) and not isinstance(low, np.ndarray) and not isinstance(low, pd.DataFrame):\n",
    "            raise TypeError(\"low must be list, np.ndarry, or pd.DataFrame not {}\".format(type(low)))\n",
    "        if not isinstance(close, list) and not isinstance(close, np.ndarray) and not isinstance(close, pd.DataFrame):\n",
    "            raise TypeError(\"close must be list, np.ndarry, or pd.DataFrame not {}\".format(type(close)))\n",
    "        open = list(open)\n",
    "        high = list(high)\n",
    "        low = list(low)\n",
    "        close = list(close)\n",
    "        if len(open) != len(high) or len(open) != len(low) or len(open) != len(close):\n",
    "            raise ValueError(\"open, high, low, and close must be the same length\")\n",
    "        if not all(isinstance(x, (int, float)) for x in open):\n",
    "            raise TypeError(\"open must be list of int or float not {}\".format(type(open)))\n",
    "        if not all(isinstance(x, (int, float)) for x in high):\n",
    "            raise TypeError(\"high must be list of int or float not {}\".format(type(high)))\n",
    "        if not all(isinstance(x, (int, float)) for x in low):\n",
    "            raise TypeError(\"low must be list of int or float not {}\".format(type(low)))\n",
    "        if not all(isinstance(x, (int, float)) for x in close):\n",
    "            raise TypeError(\"close must be list of int or float not {}\".format(type(close)))\n",
    "        return open, high, low, close"
   ]
  },
  {
   "cell_type": "code",
   "execution_count": 32,
   "metadata": {
    "collapsed": false,
    "pycharm": {
     "name": "#%%\n"
    }
   },
   "outputs": [],
   "source": [
    "# make a candle frame\n",
    "open = [1, 2, 3, 4, 5]\n",
    "high = [2, 3, 4, 5, 6]\n",
    "low = [0, 1, 2, 3, 4]\n",
    "close = [1.5, 2.5, 3.5, 4.5, 5.5]\n",
    "candle_frame = CandleFrame(open, high, low, close)"
   ]
  },
  {
   "cell_type": "code",
   "execution_count": 24,
   "metadata": {
    "collapsed": false,
    "pycharm": {
     "name": "#%%\n"
    }
   },
   "outputs": [
    {
     "name": "stdout",
     "output_type": "stream",
     "text": [
      "O: 1, H: 2, L: 0, C: 1.5\n",
      "O: 2, H: 3, L: 1, C: 2.5\n",
      "O: 3, H: 4, L: 2, C: 3.5\n",
      "O: 4, H: 5, L: 3, C: 4.5\n",
      "O: 5, H: 6, L: 4, C: 5.5\n"
     ]
    }
   ],
   "source": [
    "for candle in candle_frame:\n",
    "    print(candle)"
   ]
  }
 ],
 "metadata": {
  "kernelspec": {
   "display_name": "Python 3",
   "language": "python",
   "name": "python3"
  },
  "language_info": {
   "codemirror_mode": {
    "name": "ipython",
    "version": 2
   },
   "file_extension": ".py",
   "mimetype": "text/x-python",
   "name": "python",
   "nbconvert_exporter": "python",
   "pygments_lexer": "ipython2",
   "version": "2.7.6"
  }
 },
 "nbformat": 4,
 "nbformat_minor": 0
}
